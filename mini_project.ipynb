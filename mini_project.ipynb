{
  "nbformat": 4,
  "nbformat_minor": 0,
  "metadata": {
    "colab": {
      "name": "mini project.ipynb",
      "provenance": [],
      "collapsed_sections": [],
      "mount_file_id": "14fn2YIh0CiyuDJyNiYBB4-qazD1llU9X",
      "authorship_tag": "ABX9TyPMK+v/6hUM+on3Id3f9muV",
      "include_colab_link": true
    },
    "kernelspec": {
      "name": "python3",
      "display_name": "Python 3"
    }
  },
  "cells": [
    {
      "cell_type": "markdown",
      "metadata": {
        "id": "view-in-github",
        "colab_type": "text"
      },
      "source": [
        "<a href=\"https://colab.research.google.com/github/shanmukhakalyan/shanmukha-kalyan/blob/master/mini_project.ipynb\" target=\"_parent\"><img src=\"https://colab.research.google.com/assets/colab-badge.svg\" alt=\"Open In Colab\"/></a>"
      ]
    },
    {
      "cell_type": "code",
      "metadata": {
        "id": "q1bmK8IfFd18",
        "colab_type": "code",
        "colab": {
          "base_uri": "https://localhost:8080/",
          "height": 70
        },
        "outputId": "4a04aac7-d2bf-4720-fc98-e9e730d70117"
      },
      "source": [
        "import pandas as pd\n",
        "import numpy as np\n",
        "import matplotlib.pyplot as plt\n",
        "import seaborn as sns"
      ],
      "execution_count": null,
      "outputs": [
        {
          "output_type": "stream",
          "text": [
            "/usr/local/lib/python3.6/dist-packages/statsmodels/tools/_testing.py:19: FutureWarning: pandas.util.testing is deprecated. Use the functions in the public API at pandas.testing instead.\n",
            "  import pandas.util.testing as tm\n"
          ],
          "name": "stderr"
        }
      ]
    },
    {
      "cell_type": "code",
      "metadata": {
        "id": "owd0rf_CF352",
        "colab_type": "code",
        "colab": {
          "base_uri": "https://localhost:8080/",
          "height": 402
        },
        "outputId": "216b9522-3142-4306-eb66-b03260e30cbe"
      },
      "source": [
        "df=pd.read_csv('/content/drive/My Drive/python smartknower/mall customers gender.csv')\n",
        "df"
      ],
      "execution_count": null,
      "outputs": [
        {
          "output_type": "execute_result",
          "data": {
            "text/html": [
              "<div>\n",
              "<style scoped>\n",
              "    .dataframe tbody tr th:only-of-type {\n",
              "        vertical-align: middle;\n",
              "    }\n",
              "\n",
              "    .dataframe tbody tr th {\n",
              "        vertical-align: top;\n",
              "    }\n",
              "\n",
              "    .dataframe thead th {\n",
              "        text-align: right;\n",
              "    }\n",
              "</style>\n",
              "<table border=\"1\" class=\"dataframe\">\n",
              "  <thead>\n",
              "    <tr style=\"text-align: right;\">\n",
              "      <th></th>\n",
              "      <th>CustomerID</th>\n",
              "      <th>Gender</th>\n",
              "      <th>Age</th>\n",
              "      <th>Annual Income (k$)</th>\n",
              "      <th>Spending Score (1-100)</th>\n",
              "    </tr>\n",
              "  </thead>\n",
              "  <tbody>\n",
              "    <tr>\n",
              "      <th>0</th>\n",
              "      <td>1</td>\n",
              "      <td>Male</td>\n",
              "      <td>19</td>\n",
              "      <td>15</td>\n",
              "      <td>39</td>\n",
              "    </tr>\n",
              "    <tr>\n",
              "      <th>1</th>\n",
              "      <td>2</td>\n",
              "      <td>Male</td>\n",
              "      <td>21</td>\n",
              "      <td>15</td>\n",
              "      <td>81</td>\n",
              "    </tr>\n",
              "    <tr>\n",
              "      <th>2</th>\n",
              "      <td>3</td>\n",
              "      <td>Female</td>\n",
              "      <td>20</td>\n",
              "      <td>16</td>\n",
              "      <td>6</td>\n",
              "    </tr>\n",
              "    <tr>\n",
              "      <th>3</th>\n",
              "      <td>4</td>\n",
              "      <td>Female</td>\n",
              "      <td>23</td>\n",
              "      <td>16</td>\n",
              "      <td>77</td>\n",
              "    </tr>\n",
              "    <tr>\n",
              "      <th>4</th>\n",
              "      <td>5</td>\n",
              "      <td>Female</td>\n",
              "      <td>31</td>\n",
              "      <td>17</td>\n",
              "      <td>40</td>\n",
              "    </tr>\n",
              "    <tr>\n",
              "      <th>...</th>\n",
              "      <td>...</td>\n",
              "      <td>...</td>\n",
              "      <td>...</td>\n",
              "      <td>...</td>\n",
              "      <td>...</td>\n",
              "    </tr>\n",
              "    <tr>\n",
              "      <th>195</th>\n",
              "      <td>196</td>\n",
              "      <td>Female</td>\n",
              "      <td>35</td>\n",
              "      <td>120</td>\n",
              "      <td>79</td>\n",
              "    </tr>\n",
              "    <tr>\n",
              "      <th>196</th>\n",
              "      <td>197</td>\n",
              "      <td>Female</td>\n",
              "      <td>45</td>\n",
              "      <td>126</td>\n",
              "      <td>28</td>\n",
              "    </tr>\n",
              "    <tr>\n",
              "      <th>197</th>\n",
              "      <td>198</td>\n",
              "      <td>Male</td>\n",
              "      <td>32</td>\n",
              "      <td>126</td>\n",
              "      <td>74</td>\n",
              "    </tr>\n",
              "    <tr>\n",
              "      <th>198</th>\n",
              "      <td>199</td>\n",
              "      <td>Male</td>\n",
              "      <td>32</td>\n",
              "      <td>137</td>\n",
              "      <td>18</td>\n",
              "    </tr>\n",
              "    <tr>\n",
              "      <th>199</th>\n",
              "      <td>200</td>\n",
              "      <td>Male</td>\n",
              "      <td>30</td>\n",
              "      <td>137</td>\n",
              "      <td>83</td>\n",
              "    </tr>\n",
              "  </tbody>\n",
              "</table>\n",
              "<p>200 rows × 5 columns</p>\n",
              "</div>"
            ],
            "text/plain": [
              "     CustomerID  Gender  Age  Annual Income (k$)  Spending Score (1-100)\n",
              "0             1    Male   19                  15                      39\n",
              "1             2    Male   21                  15                      81\n",
              "2             3  Female   20                  16                       6\n",
              "3             4  Female   23                  16                      77\n",
              "4             5  Female   31                  17                      40\n",
              "..          ...     ...  ...                 ...                     ...\n",
              "195         196  Female   35                 120                      79\n",
              "196         197  Female   45                 126                      28\n",
              "197         198    Male   32                 126                      74\n",
              "198         199    Male   32                 137                      18\n",
              "199         200    Male   30                 137                      83\n",
              "\n",
              "[200 rows x 5 columns]"
            ]
          },
          "metadata": {
            "tags": []
          },
          "execution_count": 3
        }
      ]
    },
    {
      "cell_type": "code",
      "metadata": {
        "id": "MPPcoj4jGL5p",
        "colab_type": "code",
        "colab": {
          "base_uri": "https://localhost:8080/",
          "height": 195
        },
        "outputId": "9c97ad0e-0d78-4bd3-9bdb-c7dd3395104b"
      },
      "source": [
        "df.head()"
      ],
      "execution_count": null,
      "outputs": [
        {
          "output_type": "execute_result",
          "data": {
            "text/html": [
              "<div>\n",
              "<style scoped>\n",
              "    .dataframe tbody tr th:only-of-type {\n",
              "        vertical-align: middle;\n",
              "    }\n",
              "\n",
              "    .dataframe tbody tr th {\n",
              "        vertical-align: top;\n",
              "    }\n",
              "\n",
              "    .dataframe thead th {\n",
              "        text-align: right;\n",
              "    }\n",
              "</style>\n",
              "<table border=\"1\" class=\"dataframe\">\n",
              "  <thead>\n",
              "    <tr style=\"text-align: right;\">\n",
              "      <th></th>\n",
              "      <th>CustomerID</th>\n",
              "      <th>Gender</th>\n",
              "      <th>Age</th>\n",
              "      <th>Annual Income (k$)</th>\n",
              "      <th>Spending Score (1-100)</th>\n",
              "    </tr>\n",
              "  </thead>\n",
              "  <tbody>\n",
              "    <tr>\n",
              "      <th>0</th>\n",
              "      <td>1</td>\n",
              "      <td>Male</td>\n",
              "      <td>19</td>\n",
              "      <td>15</td>\n",
              "      <td>39</td>\n",
              "    </tr>\n",
              "    <tr>\n",
              "      <th>1</th>\n",
              "      <td>2</td>\n",
              "      <td>Male</td>\n",
              "      <td>21</td>\n",
              "      <td>15</td>\n",
              "      <td>81</td>\n",
              "    </tr>\n",
              "    <tr>\n",
              "      <th>2</th>\n",
              "      <td>3</td>\n",
              "      <td>Female</td>\n",
              "      <td>20</td>\n",
              "      <td>16</td>\n",
              "      <td>6</td>\n",
              "    </tr>\n",
              "    <tr>\n",
              "      <th>3</th>\n",
              "      <td>4</td>\n",
              "      <td>Female</td>\n",
              "      <td>23</td>\n",
              "      <td>16</td>\n",
              "      <td>77</td>\n",
              "    </tr>\n",
              "    <tr>\n",
              "      <th>4</th>\n",
              "      <td>5</td>\n",
              "      <td>Female</td>\n",
              "      <td>31</td>\n",
              "      <td>17</td>\n",
              "      <td>40</td>\n",
              "    </tr>\n",
              "  </tbody>\n",
              "</table>\n",
              "</div>"
            ],
            "text/plain": [
              "   CustomerID  Gender  Age  Annual Income (k$)  Spending Score (1-100)\n",
              "0           1    Male   19                  15                      39\n",
              "1           2    Male   21                  15                      81\n",
              "2           3  Female   20                  16                       6\n",
              "3           4  Female   23                  16                      77\n",
              "4           5  Female   31                  17                      40"
            ]
          },
          "metadata": {
            "tags": []
          },
          "execution_count": 4
        }
      ]
    },
    {
      "cell_type": "code",
      "metadata": {
        "id": "KN4A1lm6KNpn",
        "colab_type": "code",
        "colab": {
          "base_uri": "https://localhost:8080/",
          "height": 195
        },
        "outputId": "c5220f9a-7ed7-4d4e-e859-6400de05072d"
      },
      "source": [
        "df.tail()"
      ],
      "execution_count": null,
      "outputs": [
        {
          "output_type": "execute_result",
          "data": {
            "text/html": [
              "<div>\n",
              "<style scoped>\n",
              "    .dataframe tbody tr th:only-of-type {\n",
              "        vertical-align: middle;\n",
              "    }\n",
              "\n",
              "    .dataframe tbody tr th {\n",
              "        vertical-align: top;\n",
              "    }\n",
              "\n",
              "    .dataframe thead th {\n",
              "        text-align: right;\n",
              "    }\n",
              "</style>\n",
              "<table border=\"1\" class=\"dataframe\">\n",
              "  <thead>\n",
              "    <tr style=\"text-align: right;\">\n",
              "      <th></th>\n",
              "      <th>CustomerID</th>\n",
              "      <th>Gender</th>\n",
              "      <th>Age</th>\n",
              "      <th>Annual Income (k$)</th>\n",
              "      <th>Spending Score (1-100)</th>\n",
              "    </tr>\n",
              "  </thead>\n",
              "  <tbody>\n",
              "    <tr>\n",
              "      <th>195</th>\n",
              "      <td>196</td>\n",
              "      <td>Female</td>\n",
              "      <td>35</td>\n",
              "      <td>120</td>\n",
              "      <td>79</td>\n",
              "    </tr>\n",
              "    <tr>\n",
              "      <th>196</th>\n",
              "      <td>197</td>\n",
              "      <td>Female</td>\n",
              "      <td>45</td>\n",
              "      <td>126</td>\n",
              "      <td>28</td>\n",
              "    </tr>\n",
              "    <tr>\n",
              "      <th>197</th>\n",
              "      <td>198</td>\n",
              "      <td>Male</td>\n",
              "      <td>32</td>\n",
              "      <td>126</td>\n",
              "      <td>74</td>\n",
              "    </tr>\n",
              "    <tr>\n",
              "      <th>198</th>\n",
              "      <td>199</td>\n",
              "      <td>Male</td>\n",
              "      <td>32</td>\n",
              "      <td>137</td>\n",
              "      <td>18</td>\n",
              "    </tr>\n",
              "    <tr>\n",
              "      <th>199</th>\n",
              "      <td>200</td>\n",
              "      <td>Male</td>\n",
              "      <td>30</td>\n",
              "      <td>137</td>\n",
              "      <td>83</td>\n",
              "    </tr>\n",
              "  </tbody>\n",
              "</table>\n",
              "</div>"
            ],
            "text/plain": [
              "     CustomerID  Gender  Age  Annual Income (k$)  Spending Score (1-100)\n",
              "195         196  Female   35                 120                      79\n",
              "196         197  Female   45                 126                      28\n",
              "197         198    Male   32                 126                      74\n",
              "198         199    Male   32                 137                      18\n",
              "199         200    Male   30                 137                      83"
            ]
          },
          "metadata": {
            "tags": []
          },
          "execution_count": 5
        }
      ]
    },
    {
      "cell_type": "code",
      "metadata": {
        "id": "3VGJt9waKPd-",
        "colab_type": "code",
        "colab": {
          "base_uri": "https://localhost:8080/",
          "height": 34
        },
        "outputId": "ca837486-3c0e-4e64-b145-77be20be0c35"
      },
      "source": [
        "df.shape"
      ],
      "execution_count": null,
      "outputs": [
        {
          "output_type": "execute_result",
          "data": {
            "text/plain": [
              "(200, 5)"
            ]
          },
          "metadata": {
            "tags": []
          },
          "execution_count": 6
        }
      ]
    },
    {
      "cell_type": "code",
      "metadata": {
        "id": "cHRFVbP4KQzu",
        "colab_type": "code",
        "colab": {
          "base_uri": "https://localhost:8080/",
          "height": 284
        },
        "outputId": "ab865976-670a-41ca-d76d-4fe6ae175ead"
      },
      "source": [
        "df.describe()"
      ],
      "execution_count": null,
      "outputs": [
        {
          "output_type": "execute_result",
          "data": {
            "text/html": [
              "<div>\n",
              "<style scoped>\n",
              "    .dataframe tbody tr th:only-of-type {\n",
              "        vertical-align: middle;\n",
              "    }\n",
              "\n",
              "    .dataframe tbody tr th {\n",
              "        vertical-align: top;\n",
              "    }\n",
              "\n",
              "    .dataframe thead th {\n",
              "        text-align: right;\n",
              "    }\n",
              "</style>\n",
              "<table border=\"1\" class=\"dataframe\">\n",
              "  <thead>\n",
              "    <tr style=\"text-align: right;\">\n",
              "      <th></th>\n",
              "      <th>CustomerID</th>\n",
              "      <th>Age</th>\n",
              "      <th>Annual Income (k$)</th>\n",
              "      <th>Spending Score (1-100)</th>\n",
              "    </tr>\n",
              "  </thead>\n",
              "  <tbody>\n",
              "    <tr>\n",
              "      <th>count</th>\n",
              "      <td>200.000000</td>\n",
              "      <td>200.000000</td>\n",
              "      <td>200.000000</td>\n",
              "      <td>200.000000</td>\n",
              "    </tr>\n",
              "    <tr>\n",
              "      <th>mean</th>\n",
              "      <td>100.500000</td>\n",
              "      <td>38.850000</td>\n",
              "      <td>60.560000</td>\n",
              "      <td>50.200000</td>\n",
              "    </tr>\n",
              "    <tr>\n",
              "      <th>std</th>\n",
              "      <td>57.879185</td>\n",
              "      <td>13.969007</td>\n",
              "      <td>26.264721</td>\n",
              "      <td>25.823522</td>\n",
              "    </tr>\n",
              "    <tr>\n",
              "      <th>min</th>\n",
              "      <td>1.000000</td>\n",
              "      <td>18.000000</td>\n",
              "      <td>15.000000</td>\n",
              "      <td>1.000000</td>\n",
              "    </tr>\n",
              "    <tr>\n",
              "      <th>25%</th>\n",
              "      <td>50.750000</td>\n",
              "      <td>28.750000</td>\n",
              "      <td>41.500000</td>\n",
              "      <td>34.750000</td>\n",
              "    </tr>\n",
              "    <tr>\n",
              "      <th>50%</th>\n",
              "      <td>100.500000</td>\n",
              "      <td>36.000000</td>\n",
              "      <td>61.500000</td>\n",
              "      <td>50.000000</td>\n",
              "    </tr>\n",
              "    <tr>\n",
              "      <th>75%</th>\n",
              "      <td>150.250000</td>\n",
              "      <td>49.000000</td>\n",
              "      <td>78.000000</td>\n",
              "      <td>73.000000</td>\n",
              "    </tr>\n",
              "    <tr>\n",
              "      <th>max</th>\n",
              "      <td>200.000000</td>\n",
              "      <td>70.000000</td>\n",
              "      <td>137.000000</td>\n",
              "      <td>99.000000</td>\n",
              "    </tr>\n",
              "  </tbody>\n",
              "</table>\n",
              "</div>"
            ],
            "text/plain": [
              "       CustomerID         Age  Annual Income (k$)  Spending Score (1-100)\n",
              "count  200.000000  200.000000          200.000000              200.000000\n",
              "mean   100.500000   38.850000           60.560000               50.200000\n",
              "std     57.879185   13.969007           26.264721               25.823522\n",
              "min      1.000000   18.000000           15.000000                1.000000\n",
              "25%     50.750000   28.750000           41.500000               34.750000\n",
              "50%    100.500000   36.000000           61.500000               50.000000\n",
              "75%    150.250000   49.000000           78.000000               73.000000\n",
              "max    200.000000   70.000000          137.000000               99.000000"
            ]
          },
          "metadata": {
            "tags": []
          },
          "execution_count": 7
        }
      ]
    },
    {
      "cell_type": "code",
      "metadata": {
        "id": "NDAcFW8WKTi1",
        "colab_type": "code",
        "colab": {
          "base_uri": "https://localhost:8080/",
          "height": 218
        },
        "outputId": "af83f9b5-b432-488f-aed7-454e2c3fb14e"
      },
      "source": [
        "df.info()"
      ],
      "execution_count": null,
      "outputs": [
        {
          "output_type": "stream",
          "text": [
            "<class 'pandas.core.frame.DataFrame'>\n",
            "RangeIndex: 200 entries, 0 to 199\n",
            "Data columns (total 5 columns):\n",
            " #   Column                  Non-Null Count  Dtype \n",
            "---  ------                  --------------  ----- \n",
            " 0   CustomerID              200 non-null    int64 \n",
            " 1   Gender                  200 non-null    object\n",
            " 2   Age                     200 non-null    int64 \n",
            " 3   Annual Income (k$)      200 non-null    int64 \n",
            " 4   Spending Score (1-100)  200 non-null    int64 \n",
            "dtypes: int64(4), object(1)\n",
            "memory usage: 7.9+ KB\n"
          ],
          "name": "stdout"
        }
      ]
    },
    {
      "cell_type": "code",
      "metadata": {
        "id": "INY1YBE_KWl7",
        "colab_type": "code",
        "colab": {
          "base_uri": "https://localhost:8080/",
          "height": 67
        },
        "outputId": "a7b113fe-8b2d-42a1-8b3f-645307a42709"
      },
      "source": [
        "df.columns"
      ],
      "execution_count": null,
      "outputs": [
        {
          "output_type": "execute_result",
          "data": {
            "text/plain": [
              "Index(['CustomerID', 'Gender', 'Age', 'Annual Income (k$)',\n",
              "       'Spending Score (1-100)'],\n",
              "      dtype='object')"
            ]
          },
          "metadata": {
            "tags": []
          },
          "execution_count": 9
        }
      ]
    },
    {
      "cell_type": "code",
      "metadata": {
        "id": "9aIjz4WUKZnr",
        "colab_type": "code",
        "colab": {
          "base_uri": "https://localhost:8080/",
          "height": 34
        },
        "outputId": "d25124d4-18d4-4d8b-c798-38930bf9463c"
      },
      "source": [
        "df['Gender'].unique()"
      ],
      "execution_count": null,
      "outputs": [
        {
          "output_type": "execute_result",
          "data": {
            "text/plain": [
              "array(['Male', 'Female'], dtype=object)"
            ]
          },
          "metadata": {
            "tags": []
          },
          "execution_count": 10
        }
      ]
    },
    {
      "cell_type": "code",
      "metadata": {
        "id": "F98WW_DBLqRZ",
        "colab_type": "code",
        "colab": {
          "base_uri": "https://localhost:8080/",
          "height": 279
        },
        "outputId": "9e008fed-96cd-41fe-8476-5e061ca21fad"
      },
      "source": [
        "sns.countplot(x = 'Gender',data = df)\n",
        "plt.show()"
      ],
      "execution_count": null,
      "outputs": [
        {
          "output_type": "display_data",
          "data": {
            "image/png": "[encoded data removed]",
            "text/plain": [
              "<Figure size 432x288 with 1 Axes>"
            ]
          },
          "metadata": {
            "tags": [],
            "needs_background": "light"
          }
        }
      ]
    },
    {
      "cell_type": "code",
      "metadata": {
        "id": "xBbpeWMQOFOe",
        "colab_type": "code",
        "colab": {}
      },
      "source": [
        "x = df.iloc[:,2:5].values\n",
        "y = df.iloc[:,1].values"
      ],
      "execution_count": null,
      "outputs": []
    },
    {
      "cell_type": "code",
      "metadata": {
        "id": "iMT_dAqcONqU",
        "colab_type": "code",
        "colab": {}
      },
      "source": [
        "from sklearn.model_selection import train_test_split\n",
        "x_train,x_test,y_train,y_test = train_test_split(x,y, random_state =20)"
      ],
      "execution_count": null,
      "outputs": []
    },
    {
      "cell_type": "code",
      "metadata": {
        "id": "PPvdVlZeORNS",
        "colab_type": "code",
        "colab": {}
      },
      "source": [
        "from sklearn.neighbors import KNeighborsClassifier"
      ],
      "execution_count": null,
      "outputs": []
    },
    {
      "cell_type": "code",
      "metadata": {
        "id": "3fKmqrh5OUk_",
        "colab_type": "code",
        "colab": {
          "base_uri": "https://localhost:8080/",
          "height": 34
        },
        "outputId": "ca97a5f3-1c57-4370-90be-cefc04ffaa5d"
      },
      "source": [
        "x_train.shape"
      ],
      "execution_count": null,
      "outputs": [
        {
          "output_type": "execute_result",
          "data": {
            "text/plain": [
              "(150, 3)"
            ]
          },
          "metadata": {
            "tags": []
          },
          "execution_count": 16
        }
      ]
    },
    {
      "cell_type": "code",
      "metadata": {
        "id": "Y5WqLJj3OdjA",
        "colab_type": "code",
        "colab": {
          "base_uri": "https://localhost:8080/",
          "height": 34
        },
        "outputId": "393d1630-d7fa-4913-9b96-0f812999908f"
      },
      "source": [
        "x_test.shape"
      ],
      "execution_count": null,
      "outputs": [
        {
          "output_type": "execute_result",
          "data": {
            "text/plain": [
              "(50, 3)"
            ]
          },
          "metadata": {
            "tags": []
          },
          "execution_count": 17
        }
      ]
    },
    {
      "cell_type": "code",
      "metadata": {
        "id": "T0HNTzPDD5gu",
        "colab_type": "code",
        "colab": {}
      },
      "source": [
        "from sklearn.preprocessing import MinMaxScaler\n",
        "scaler = MinMaxScaler()\n",
        "x_train = scaler.fit_transform(x_train)\n",
        "x_test = scaler.transform(x_test)"
      ],
      "execution_count": null,
      "outputs": []
    },
    {
      "cell_type": "code",
      "metadata": {
        "id": "t2y-E2WYEQ8j",
        "colab_type": "code",
        "colab": {
          "base_uri": "https://localhost:8080/",
          "height": 1000
        },
        "outputId": "fe951d9c-96ad-441f-de92-1c5d4ded505f"
      },
      "source": [
        "x_train"
      ],
      "execution_count": null,
      "outputs": [
        {
          "output_type": "execute_result",
          "data": {
            "text/plain": [
              "array([[0.76923077, 0.04098361, 0.14285714],\n",
              "       [0.38461538, 0.45901639, 0.75510204],\n",
              "       [0.28846154, 0.22131148, 0.60204082],\n",
              "       [0.38461538, 0.51639344, 0.76530612],\n",
              "       [0.30769231, 0.35245902, 0.60204082],\n",
              "       [0.05769231, 0.        , 0.81632653],\n",
              "       [0.55769231, 0.2295082 , 0.40816327],\n",
              "       [0.75      , 0.31967213, 0.51020408],\n",
              "       [0.30769231, 0.51639344, 0.        ],\n",
              "       [0.86538462, 0.2704918 , 0.51020408],\n",
              "       [0.03846154, 0.47540984, 0.04081633],\n",
              "       [0.94230769, 0.26229508, 0.52040816],\n",
              "       [0.32692308, 0.07377049, 0.34693878],\n",
              "       [0.13461538, 0.07377049, 0.73469388],\n",
              "       [0.11538462, 0.19672131, 0.65306122],\n",
              "       [0.78846154, 0.45901639, 0.10204082],\n",
              "       [0.57692308, 0.36885246, 0.48979592],\n",
              "       [0.26923077, 0.72131148, 0.69387755],\n",
              "       [0.09615385, 0.1147541 , 0.87755102],\n",
              "       [0.96153846, 0.36065574, 0.55102041],\n",
              "       [0.05769231, 0.14754098, 0.81632653],\n",
              "       [0.69230769, 0.39344262, 0.45918367],\n",
              "       [0.        , 0.36065574, 0.40816327],\n",
              "       [0.59615385, 0.3852459 , 0.56122449],\n",
              "       [0.34615385, 0.57377049, 0.75510204],\n",
              "       [0.01923077, 0.2704918 , 0.59183673],\n",
              "       [0.23076923, 0.1557377 , 0.73469388],\n",
              "       [0.57692308, 0.37704918, 0.41836735],\n",
              "       [0.01923077, 0.        , 0.3877551 ],\n",
              "       [0.26923077, 0.90983607, 0.74489796],\n",
              "       [0.32692308, 0.03278689, 1.        ],\n",
              "       [0.21153846, 0.47540984, 0.8877551 ],\n",
              "       [0.25      , 0.20491803, 0.41836735],\n",
              "       [0.80769231, 0.12295082, 0.03061224],\n",
              "       [0.        , 0.2704918 , 0.59183673],\n",
              "       [0.26923077, 1.        , 0.17346939],\n",
              "       [0.48076923, 0.2704918 , 0.5       ],\n",
              "       [0.15384615, 0.3852459 , 0.55102041],\n",
              "       [0.11538462, 0.18852459, 0.92857143],\n",
              "       [0.32692308, 0.63934426, 0.90816327],\n",
              "       [0.59615385, 0.40983607, 0.59183673],\n",
              "       [0.98076923, 0.23770492, 0.45918367],\n",
              "       [0.03846154, 0.00819672, 0.05102041],\n",
              "       [0.26923077, 0.2704918 , 0.46938776],\n",
              "       [0.78846154, 0.31967213, 0.46938776],\n",
              "       [0.59615385, 0.22131148, 0.52040816],\n",
              "       [0.96153846, 0.39344262, 0.42857143],\n",
              "       [0.61538462, 0.57377049, 0.25510204],\n",
              "       [0.17307692, 0.25409836, 0.51020408],\n",
              "       [0.09615385, 0.3852459 , 0.40816327],\n",
              "       [0.63461538, 0.23770492, 0.5       ],\n",
              "       [0.05769231, 0.12295082, 0.73469388],\n",
              "       [0.36538462, 0.04098361, 0.12244898],\n",
              "       [0.17307692, 0.42622951, 0.56122449],\n",
              "       [0.07692308, 0.3442623 , 0.55102041],\n",
              "       [0.03846154, 0.18032787, 0.75510204],\n",
              "       [0.92307692, 0.39344262, 0.5       ],\n",
              "       [0.94230769, 0.3852459 , 0.59183673],\n",
              "       [0.40384615, 0.51639344, 0.8877551 ],\n",
              "       [0.80769231, 0.28688525, 0.56122449],\n",
              "       [0.38461538, 0.31967213, 0.55102041],\n",
              "       [0.61538462, 0.2295082 , 0.44897959],\n",
              "       [0.09615385, 0.45081967, 0.28571429],\n",
              "       [0.75      , 0.49180328, 0.04081633],\n",
              "       [0.51923077, 0.31967213, 0.53061224],\n",
              "       [0.55769231, 0.36885246, 0.46938776],\n",
              "       [0.25      , 0.2295082 , 0.54081633],\n",
              "       [0.25      , 0.08196721, 0.73469388],\n",
              "       [0.61538462, 0.42622951, 0.57142857],\n",
              "       [0.13461538, 0.46721311, 0.33673469],\n",
              "       [0.23076923, 0.03278689, 0.7244898 ],\n",
              "       [0.34615385, 0.18032787, 0.25510204],\n",
              "       [0.34615385, 0.59016393, 0.92857143],\n",
              "       [0.78846154, 0.2295082 , 0.60204082],\n",
              "       [0.11538462, 0.36885246, 0.52040816],\n",
              "       [0.25      , 0.45081967, 0.7755102 ],\n",
              "       [0.21153846, 0.20491803, 0.41836735],\n",
              "       [0.86538462, 0.40983607, 0.42857143],\n",
              "       [0.32692308, 0.06557377, 0.98979592],\n",
              "       [0.46153846, 0.1557377 , 0.16326531],\n",
              "       [0.42307692, 0.45901639, 0.95918367],\n",
              "       [0.40384615, 0.44262295, 0.91836735],\n",
              "       [1.        , 0.25409836, 0.56122449],\n",
              "       [0.55769231, 0.51639344, 0.15306122],\n",
              "       [0.36538462, 0.67213115, 0.31632653],\n",
              "       [0.34615385, 0.72131148, 0.85714286],\n",
              "       [0.03846154, 0.04918033, 0.66326531],\n",
              "       [0.        , 0.40983607, 0.47959184],\n",
              "       [0.01923077, 0.48360656, 0.09183673],\n",
              "       [0.01923077, 0.40983607, 0.5       ],\n",
              "       [0.23076923, 0.51639344, 0.73469388],\n",
              "       [0.94230769, 0.31967213, 0.40816327],\n",
              "       [0.26923077, 0.67213115, 0.86734694],\n",
              "       [0.73076923, 0.52459016, 0.34693878],\n",
              "       [0.88461538, 0.03278689, 0.02040816],\n",
              "       [0.25      , 0.54098361, 0.93877551],\n",
              "       [0.32692308, 0.10655738, 0.6122449 ],\n",
              "       [0.25      , 0.01639344, 0.39795918],\n",
              "       [0.19230769, 0.5       , 0.39795918],\n",
              "       [0.38461538, 0.80327869, 0.91836735],\n",
              "       [1.        , 0.27868852, 0.55102041],\n",
              "       [0.21153846, 0.52459016, 0.83673469],\n",
              "       [0.26923077, 0.59016393, 0.63265306],\n",
              "       [0.26923077, 0.36885246, 0.41836735],\n",
              "       [0.57692308, 0.19672131, 0.35714286],\n",
              "       [0.        , 0.14754098, 0.92857143],\n",
              "       [0.42307692, 0.36885246, 0.39795918],\n",
              "       [0.57692308, 0.50819672, 0.35714286],\n",
              "       [0.69230769, 0.10655738, 0.13265306],\n",
              "       [0.09615385, 0.31967213, 0.52040816],\n",
              "       [0.34615385, 0.59016393, 0.09183673],\n",
              "       [0.23076923, 0.51639344, 0.78571429],\n",
              "       [0.30769231, 0.72131148, 0.2244898 ],\n",
              "       [0.19230769, 0.59016393, 0.75510204],\n",
              "       [0.59615385, 0.31967213, 0.41836735],\n",
              "       [0.42307692, 0.59016393, 0.12244898],\n",
              "       [0.69230769, 0.70491803, 0.23469388],\n",
              "       [0.25      , 0.19672131, 0.6122449 ],\n",
              "       [0.19230769, 0.50819672, 0.97959184],\n",
              "       [0.09615385, 0.00819672, 0.7755102 ],\n",
              "       [0.65384615, 0.06557377, 0.28571429],\n",
              "       [0.55769231, 0.86065574, 0.15306122],\n",
              "       [0.53846154, 0.68032787, 0.14285714],\n",
              "       [0.94230769, 0.03278689, 0.13265306],\n",
              "       [0.67307692, 0.14754098, 0.03061224],\n",
              "       [0.90384615, 0.39344262, 0.52040816],\n",
              "       [0.53846154, 0.31967213, 0.43877551],\n",
              "       [0.01923077, 0.25409836, 0.55102041],\n",
              "       [0.40384615, 0.45901639, 0.75510204],\n",
              "       [0.21153846, 0.10655738, 0.82653061],\n",
              "       [0.26923077, 0.49180328, 0.93877551],\n",
              "       [0.44230769, 0.72131148, 0.16326531],\n",
              "       [0.32692308, 0.02459016, 0.05102041],\n",
              "       [0.09615385, 0.02459016, 0.94897959],\n",
              "       [0.59615385, 0.3852459 , 0.47959184],\n",
              "       [0.05769231, 0.3852459 , 0.41836735],\n",
              "       [0.13461538, 0.50819672, 0.1122449 ],\n",
              "       [0.32692308, 0.04918033, 0.34693878],\n",
              "       [0.51923077, 0.10655738, 0.31632653],\n",
              "       [0.90384615, 0.18852459, 0.34693878],\n",
              "       [0.63461538, 0.42622951, 0.42857143],\n",
              "       [0.01923077, 0.54098361, 0.04081633],\n",
              "       [0.55769231, 0.27868852, 0.41836735],\n",
              "       [0.53846154, 0.08196721, 0.04081633],\n",
              "       [0.15384615, 0.31967213, 0.54081633],\n",
              "       [0.30769231, 0.51639344, 0.21428571],\n",
              "       [0.26923077, 0.47540984, 0.73469388],\n",
              "       [0.36538462, 0.51639344, 0.        ],\n",
              "       [0.07692308, 0.04098361, 0.79591837],\n",
              "       [0.03846154, 0.37704918, 0.48979592]])"
            ]
          },
          "metadata": {
            "tags": []
          },
          "execution_count": 19
        }
      ]
    },
    {
      "cell_type": "code",
      "metadata": {
        "id": "g827owN3OhPt",
        "colab_type": "code",
        "colab": {
          "base_uri": "https://localhost:8080/",
          "height": 151
        },
        "outputId": "17cb1f72-a0e2-4002-e037-2660e5b08b35"
      },
      "source": [
        "model = KNeighborsClassifier(n_neighbors=14)\n",
        "model.fit(x_train,y_train)\n",
        "y_pred = model.predict(x_test)\n",
        "y_pred"
      ],
      "execution_count": null,
      "outputs": [
        {
          "output_type": "execute_result",
          "data": {
            "text/plain": [
              "array(['Female', 'Female', 'Female', 'Female', 'Male', 'Female', 'Female',\n",
              "       'Female', 'Female', 'Female', 'Male', 'Female', 'Female', 'Female',\n",
              "       'Male', 'Female', 'Female', 'Female', 'Female', 'Male', 'Female',\n",
              "       'Female', 'Female', 'Female', 'Female', 'Female', 'Female',\n",
              "       'Female', 'Female', 'Female', 'Female', 'Female', 'Female', 'Male',\n",
              "       'Female', 'Female', 'Female', 'Female', 'Female', 'Female', 'Male',\n",
              "       'Male', 'Female', 'Female', 'Female', 'Female', 'Female', 'Female',\n",
              "       'Male', 'Male'], dtype=object)"
            ]
          },
          "metadata": {
            "tags": []
          },
          "execution_count": 20
        }
      ]
    },
    {
      "cell_type": "code",
      "metadata": {
        "id": "l35l41TGOk6P",
        "colab_type": "code",
        "colab": {
          "base_uri": "https://localhost:8080/",
          "height": 151
        },
        "outputId": "612ef6bc-c55b-4bcf-c594-5e1b9290883c"
      },
      "source": [
        "y_test"
      ],
      "execution_count": null,
      "outputs": [
        {
          "output_type": "execute_result",
          "data": {
            "text/plain": [
              "array(['Male', 'Female', 'Female', 'Male', 'Male', 'Female', 'Male',\n",
              "       'Female', 'Female', 'Female', 'Female', 'Male', 'Male', 'Male',\n",
              "       'Female', 'Female', 'Female', 'Female', 'Female', 'Male', 'Male',\n",
              "       'Male', 'Female', 'Female', 'Male', 'Female', 'Male', 'Male',\n",
              "       'Female', 'Female', 'Female', 'Female', 'Female', 'Female',\n",
              "       'Female', 'Male', 'Male', 'Female', 'Female', 'Female', 'Female',\n",
              "       'Female', 'Female', 'Male', 'Female', 'Female', 'Female', 'Female',\n",
              "       'Female', 'Male'], dtype=object)"
            ]
          },
          "metadata": {
            "tags": []
          },
          "execution_count": 21
        }
      ]
    },
    {
      "cell_type": "code",
      "metadata": {
        "id": "I-F_Fv0lC0mY",
        "colab_type": "code",
        "colab": {
          "base_uri": "https://localhost:8080/",
          "height": 34
        },
        "outputId": "5b259372-53d2-42de-864b-c82fc324bff1"
      },
      "source": [
        "from sklearn.metrics import accuracy_score\n",
        "accuracy_score(y_test,y_pred)*100"
      ],
      "execution_count": null,
      "outputs": [
        {
          "output_type": "execute_result",
          "data": {
            "text/plain": [
              "60.0"
            ]
          },
          "metadata": {
            "tags": []
          },
          "execution_count": 22
        }
      ]
    },
    {
      "cell_type": "code",
      "metadata": {
        "id": "_A6dCd_VDOGd",
        "colab_type": "code",
        "colab": {
          "base_uri": "https://localhost:8080/",
          "height": 50
        },
        "outputId": "d712b62e-adf0-4d59-a1b0-6c0f7d1457f0"
      },
      "source": [
        "from sklearn.metrics import confusion_matrix\n",
        "confusion_matrix(y_test,y_pred)"
      ],
      "execution_count": null,
      "outputs": [
        {
          "output_type": "execute_result",
          "data": {
            "text/plain": [
              "array([[27,  6],\n",
              "       [14,  3]])"
            ]
          },
          "metadata": {
            "tags": []
          },
          "execution_count": 23
        }
      ]
    },
    {
      "cell_type": "code",
      "metadata": {
        "id": "e0jQwfBrDRfh",
        "colab_type": "code",
        "colab": {
          "base_uri": "https://localhost:8080/",
          "height": 34
        },
        "outputId": "9223c4a6-44a8-4ca6-da31-59e6b1f3e188"
      },
      "source": [
        "from sklearn.metrics import f1_score\n",
        "f1_score(y_test,y_pred,average='weighted')*100"
      ],
      "execution_count": null,
      "outputs": [
        {
          "output_type": "execute_result",
          "data": {
            "text/plain": [
              "56.00831600831601"
            ]
          },
          "metadata": {
            "tags": []
          },
          "execution_count": 24
        }
      ]
    },
    {
      "cell_type": "code",
      "metadata": {
        "id": "FJb4ocafDUV_",
        "colab_type": "code",
        "colab": {
          "base_uri": "https://localhost:8080/",
          "height": 168
        },
        "outputId": "da4f9a39-0ad4-414e-91c9-b54d0ac30b73"
      },
      "source": [
        "from sklearn.metrics import classification_report\n",
        "print(classification_report(y_test,y_pred))"
      ],
      "execution_count": null,
      "outputs": [
        {
          "output_type": "stream",
          "text": [
            "              precision    recall  f1-score   support\n",
            "\n",
            "      Female       0.66      0.82      0.73        33\n",
            "        Male       0.33      0.18      0.23        17\n",
            "\n",
            "    accuracy                           0.60        50\n",
            "   macro avg       0.50      0.50      0.48        50\n",
            "weighted avg       0.55      0.60      0.56        50\n",
            "\n"
          ],
          "name": "stdout"
        }
      ]
    }
  ]
}